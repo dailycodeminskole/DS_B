{
 "cells": [
  {
   "cell_type": "markdown",
   "id": "15b0249a",
   "metadata": {},
   "source": [
    "# NUMPY"
   ]
  },
  {
   "cell_type": "markdown",
   "id": "5de4a834",
   "metadata": {},
   "source": [
    "# >>>>>>>>>>>>>>>>>>>>>DAY 01"
   ]
  },
  {
   "cell_type": "markdown",
   "id": "b550c1a6",
   "metadata": {},
   "source": [
    " ## Syllabus"
   ]
  },
  {
   "cell_type": "code",
   "execution_count": 7,
   "id": "f8364821",
   "metadata": {},
   "outputs": [],
   "source": [
    "# Introduction To Numpy\n",
    "# Creating Multi-Dimensional Numpy Arrays\n",
    "# Arange Function\n",
    "# Zeros, Ones and Eye functions\n",
    "# Reshape Function\n",
    "# Linspace\n",
    "# Resize Function\n",
    "# Random.rand\n",
    "# Random.randn\n",
    "# Random.randint\n",
    "# Indexing & Slicing\n",
    "# Broadcasting\n",
    "# How To Create A Copy Dataset\n",
    "# DataFrame Introduction\n",
    "# Creating Matrix"
   ]
  },
  {
   "cell_type": "code",
   "execution_count": 16,
   "id": "1c00a2c4",
   "metadata": {},
   "outputs": [],
   "source": [
    "# List vs array"
   ]
  },
  {
   "cell_type": "code",
   "execution_count": 17,
   "id": "e4ff9f46",
   "metadata": {},
   "outputs": [],
   "source": [
    "a1 = [1,2,3,4,5,6,7,8,9,10]"
   ]
  },
  {
   "cell_type": "code",
   "execution_count": 25,
   "id": "b6f24c2e",
   "metadata": {},
   "outputs": [
    {
     "name": "stdout",
     "output_type": "stream",
     "text": [
      "[1, 2, 3, 4, 5, 6, 7, 8, 9, 10, 1, 2, 3, 4, 5, 6, 7, 8, 9, 10]\n"
     ]
    }
   ],
   "source": [
    "print(2*a1)"
   ]
  },
  {
   "cell_type": "markdown",
   "id": "9bc8eaa2",
   "metadata": {},
   "source": [
    "# for doing elemnt wise operation "
   ]
  },
  {
   "cell_type": "code",
   "execution_count": 18,
   "id": "4102ecee",
   "metadata": {},
   "outputs": [
    {
     "name": "stdout",
     "output_type": "stream",
     "text": [
      "2\n",
      "4\n",
      "6\n",
      "8\n",
      "10\n",
      "12\n",
      "14\n",
      "16\n",
      "18\n",
      "20\n"
     ]
    }
   ],
   "source": [
    "for i in a1:\n",
    "    print(2*i)"
   ]
  },
  {
   "cell_type": "code",
   "execution_count": 23,
   "id": "d2a187c7",
   "metadata": {},
   "outputs": [
    {
     "name": "stdout",
     "output_type": "stream",
     "text": [
      "[2, 4, 6, 8, 10, 12, 14, 16, 18, 20]\n"
     ]
    }
   ],
   "source": [
    "print([i*2 for i in a1])"
   ]
  },
  {
   "cell_type": "code",
   "execution_count": 24,
   "id": "211f2451",
   "metadata": {},
   "outputs": [],
   "source": [
    "arr1 = np.array(a1)"
   ]
  },
  {
   "cell_type": "code",
   "execution_count": 26,
   "id": "b9ff5b29",
   "metadata": {},
   "outputs": [
    {
     "name": "stdout",
     "output_type": "stream",
     "text": [
      "[ 2  4  6  8 10 12 14 16 18 20]\n"
     ]
    }
   ],
   "source": [
    "print(2*arr1)"
   ]
  },
  {
   "cell_type": "markdown",
   "id": "1e1e08ef",
   "metadata": {},
   "source": [
    "# for doing foaster operations"
   ]
  },
  {
   "cell_type": "code",
   "execution_count": 33,
   "id": "d5b6d47b",
   "metadata": {},
   "outputs": [],
   "source": [
    "i = range(10000)\n"
   ]
  },
  {
   "cell_type": "code",
   "execution_count": 34,
   "id": "15b6af90",
   "metadata": {},
   "outputs": [
    {
     "name": "stdout",
     "output_type": "stream",
     "text": [
      "583 ns ± 14.9 ns per loop (mean ± std. dev. of 7 runs, 1,000,000 loops each)\n"
     ]
    }
   ],
   "source": [
    "%timeit [i*2 for i in a1]"
   ]
  },
  {
   "cell_type": "code",
   "execution_count": 35,
   "id": "8c2608b7",
   "metadata": {},
   "outputs": [],
   "source": [
    "i =  np.arange(1000)"
   ]
  },
  {
   "cell_type": "code",
   "execution_count": 36,
   "id": "fe0720e1",
   "metadata": {},
   "outputs": [
    {
     "name": "stdout",
     "output_type": "stream",
     "text": [
      "2.02 µs ± 60.6 ns per loop (mean ± std. dev. of 7 runs, 100,000 loops each)\n"
     ]
    }
   ],
   "source": [
    "%timeit (i*2)"
   ]
  },
  {
   "cell_type": "markdown",
   "id": "de553560",
   "metadata": {},
   "source": [
    "# IMP Attributes"
   ]
  },
  {
   "cell_type": "code",
   "execution_count": 42,
   "id": "5e03776f",
   "metadata": {},
   "outputs": [
    {
     "name": "stdout",
     "output_type": "stream",
     "text": [
      "[ 1  2  3  4  5  6  7  8  9 10]\n"
     ]
    }
   ],
   "source": [
    "arr2 = np.array(a1)\n",
    "print(arr2)"
   ]
  },
  {
   "cell_type": "code",
   "execution_count": 44,
   "id": "f2fbb86f",
   "metadata": {},
   "outputs": [
    {
     "name": "stdout",
     "output_type": "stream",
     "text": [
      "1\n"
     ]
    }
   ],
   "source": [
    "print(arr2.ndim)"
   ]
  },
  {
   "cell_type": "code",
   "execution_count": 45,
   "id": "0a21e785",
   "metadata": {},
   "outputs": [
    {
     "name": "stdout",
     "output_type": "stream",
     "text": [
      "(10,)\n"
     ]
    }
   ],
   "source": [
    "print(arr2.shape)"
   ]
  },
  {
   "cell_type": "code",
   "execution_count": 46,
   "id": "620961e1",
   "metadata": {},
   "outputs": [
    {
     "name": "stdout",
     "output_type": "stream",
     "text": [
      "10\n"
     ]
    }
   ],
   "source": [
    "print(arr2.size)"
   ]
  },
  {
   "cell_type": "code",
   "execution_count": 47,
   "id": "a776b2ae",
   "metadata": {},
   "outputs": [
    {
     "name": "stdout",
     "output_type": "stream",
     "text": [
      "int32\n"
     ]
    }
   ],
   "source": [
    "print(arr2.dtype)"
   ]
  },
  {
   "cell_type": "code",
   "execution_count": 48,
   "id": "5cd83923",
   "metadata": {},
   "outputs": [
    {
     "name": "stdout",
     "output_type": "stream",
     "text": [
      "4\n"
     ]
    }
   ],
   "source": [
    "print(arr2.itemsize) #32/8 = 4"
   ]
  },
  {
   "cell_type": "markdown",
   "id": "9f25e892",
   "metadata": {},
   "source": [
    "# Array Creation "
   ]
  },
  {
   "cell_type": "code",
   "execution_count": 50,
   "id": "cc6aaa1b",
   "metadata": {},
   "outputs": [
    {
     "name": "stdout",
     "output_type": "stream",
     "text": [
      "[ 0  1  2  3  4  5  6  7  8  9 10 11 12 13 14]\n"
     ]
    }
   ],
   "source": [
    "print(np.arange(15))"
   ]
  },
  {
   "cell_type": "code",
   "execution_count": 51,
   "id": "c5973196",
   "metadata": {},
   "outputs": [
    {
     "name": "stdout",
     "output_type": "stream",
     "text": [
      "[15 16 17 18 19 20 21 22 23 24 25 26 27 28 29 30 31 32 33 34 35 36 37 38\n",
      " 39 40 41 42 43 44 45 46 47 48 49]\n"
     ]
    }
   ],
   "source": [
    "print(np.arange(15,50)) # range"
   ]
  },
  {
   "cell_type": "code",
   "execution_count": 52,
   "id": "f97eb101",
   "metadata": {},
   "outputs": [
    {
     "name": "stdout",
     "output_type": "stream",
     "text": [
      "[15 25 35 45]\n"
     ]
    }
   ],
   "source": [
    "print(np.arange(15,50,10)) #step size"
   ]
  },
  {
   "cell_type": "code",
   "execution_count": 54,
   "id": "e312fa67",
   "metadata": {},
   "outputs": [
    {
     "name": "stdout",
     "output_type": "stream",
     "text": [
      "[ 1.          1.47368421  1.94736842  2.42105263  2.89473684  3.36842105\n",
      "  3.84210526  4.31578947  4.78947368  5.26315789  5.73684211  6.21052632\n",
      "  6.68421053  7.15789474  7.63157895  8.10526316  8.57894737  9.05263158\n",
      "  9.52631579 10.        ]\n"
     ]
    }
   ],
   "source": [
    "print(np.linspace(1,10,20)) #lin space"
   ]
  },
  {
   "cell_type": "markdown",
   "id": "2f429626",
   "metadata": {},
   "source": [
    "# Data Types in NUMPY"
   ]
  },
  {
   "cell_type": "code",
   "execution_count": 234,
   "id": "8e40e800",
   "metadata": {},
   "outputs": [],
   "source": [
    "#  converting to homogenous data type in an array"
   ]
  },
  {
   "cell_type": "code",
   "execution_count": 57,
   "id": "da76acc5",
   "metadata": {},
   "outputs": [
    {
     "name": "stdout",
     "output_type": "stream",
     "text": [
      "[1, 2, 3, 4, 5, 6, 7, 8, 9, 10]\n",
      "[1.1, 2, 3, 4, 5, 6, 7, 8, 9, 10]\n"
     ]
    }
   ],
   "source": [
    "arr2 = [1,2,3,4,5,6,7,8,9,10]\n",
    "print(arr2)\n",
    "arr3 = [1.1,2,3,4,5,6,7,8,9,10]\n",
    "print(arr3)"
   ]
  },
  {
   "cell_type": "code",
   "execution_count": 62,
   "id": "02e945af",
   "metadata": {},
   "outputs": [
    {
     "name": "stdout",
     "output_type": "stream",
     "text": [
      "[[ 1  2  3  4  5  6  7  8  9 10]]\n",
      "[[ 1.1  2.   3.   4.   5.   6.   7.   8.   9.  10. ]]\n"
     ]
    }
   ],
   "source": [
    "print(np.array([arr2]))\n",
    "print(np.array([arr3])) # every element is converted into float to maintain homogeniety"
   ]
  },
  {
   "cell_type": "code",
   "execution_count": 64,
   "id": "9d5a2233",
   "metadata": {},
   "outputs": [
    {
     "name": "stdout",
     "output_type": "stream",
     "text": [
      "[['1' '2' '3' '4' '5' '6' '7' '8' '9' '10']]\n"
     ]
    }
   ],
   "source": [
    "arr4 = [1,2,3,4,5,6,7,8,9,'10']\n",
    "print(np.array([arr4]))"
   ]
  },
  {
   "cell_type": "markdown",
   "id": "8e28bc5d",
   "metadata": {},
   "source": [
    "# 2D Array"
   ]
  },
  {
   "cell_type": "code",
   "execution_count": 66,
   "id": "a32429a0",
   "metadata": {},
   "outputs": [
    {
     "name": "stdout",
     "output_type": "stream",
     "text": [
      "[[1, 1, 1], [2, 2, 2]]\n"
     ]
    }
   ],
   "source": [
    "m = ([[1,1,1],[2,2,2]])\n",
    "print(m)"
   ]
  },
  {
   "cell_type": "code",
   "execution_count": 68,
   "id": "0fdfc774",
   "metadata": {},
   "outputs": [
    {
     "name": "stdout",
     "output_type": "stream",
     "text": [
      "[[1 1 1]\n",
      " [2 2 2]]\n",
      "2\n",
      "6\n",
      "(2, 3)\n"
     ]
    }
   ],
   "source": [
    "m1 = np.array(m)\n",
    "print(m1)\n",
    "print(m1.ndim)\n",
    "print(m1.size)\n",
    "print(m1.shape)\n"
   ]
  },
  {
   "cell_type": "code",
   "execution_count": 69,
   "id": "884fbe36",
   "metadata": {},
   "outputs": [
    {
     "data": {
      "text/plain": [
       "array([[1],\n",
       "       [1],\n",
       "       [1],\n",
       "       [2],\n",
       "       [2],\n",
       "       [2]])"
      ]
     },
     "execution_count": 69,
     "metadata": {},
     "output_type": "execute_result"
    }
   ],
   "source": [
    "m1.reshape(6,1) #column vecort"
   ]
  },
  {
   "cell_type": "code",
   "execution_count": 70,
   "id": "59e694ea",
   "metadata": {},
   "outputs": [
    {
     "data": {
      "text/plain": [
       "array([[1, 1, 1, 2, 2, 2]])"
      ]
     },
     "execution_count": 70,
     "metadata": {},
     "output_type": "execute_result"
    }
   ],
   "source": [
    "m1.reshape(1,6) # row vector"
   ]
  },
  {
   "cell_type": "code",
   "execution_count": 71,
   "id": "4a8699e4",
   "metadata": {},
   "outputs": [],
   "source": [
    "# Easy way of creating 2d array  using reshape"
   ]
  },
  {
   "cell_type": "code",
   "execution_count": 72,
   "id": "eaff0cb2",
   "metadata": {},
   "outputs": [
    {
     "name": "stdout",
     "output_type": "stream",
     "text": [
      "[ 0  1  2  3  4  5  6  7  8  9 10 11 12 13 14]\n"
     ]
    }
   ],
   "source": [
    "m3 = np.arange(15)\n",
    "print(m3)"
   ]
  },
  {
   "cell_type": "code",
   "execution_count": 73,
   "id": "c6ff00aa",
   "metadata": {},
   "outputs": [
    {
     "name": "stdout",
     "output_type": "stream",
     "text": [
      "[[ 0  1  2  3  4]\n",
      " [ 5  6  7  8  9]\n",
      " [10 11 12 13 14]]\n"
     ]
    }
   ],
   "source": [
    "print(m3.reshape(3,5))"
   ]
  },
  {
   "cell_type": "code",
   "execution_count": 74,
   "id": "39bcb697",
   "metadata": {},
   "outputs": [
    {
     "name": "stdout",
     "output_type": "stream",
     "text": [
      "[[ 0  1  2]\n",
      " [ 3  4  5]\n",
      " [ 6  7  8]\n",
      " [ 9 10 11]\n",
      " [12 13 14]]\n"
     ]
    }
   ],
   "source": [
    "print(m3.reshape(5,3))"
   ]
  },
  {
   "cell_type": "code",
   "execution_count": 75,
   "id": "4eafbd0e",
   "metadata": {},
   "outputs": [],
   "source": [
    "# flatten 2d array"
   ]
  },
  {
   "cell_type": "code",
   "execution_count": 77,
   "id": "9052c67b",
   "metadata": {},
   "outputs": [
    {
     "name": "stdout",
     "output_type": "stream",
     "text": [
      "[ 0  1  2  3  4  5  6  7  8  9 10 11 12 13 14]\n"
     ]
    }
   ],
   "source": [
    "print(m3.flatten())"
   ]
  },
  {
   "cell_type": "code",
   "execution_count": 78,
   "id": "d70f0199",
   "metadata": {},
   "outputs": [
    {
     "name": "stdout",
     "output_type": "stream",
     "text": [
      "[[ 0  1  2]\n",
      " [ 3  4  5]\n",
      " [ 6  7  8]\n",
      " [ 9 10 11]\n",
      " [12 13 14]]\n"
     ]
    }
   ],
   "source": [
    "print(m3.reshape(5,3))"
   ]
  },
  {
   "cell_type": "code",
   "execution_count": 82,
   "id": "b0ef04b8",
   "metadata": {},
   "outputs": [
    {
     "name": "stdout",
     "output_type": "stream",
     "text": [
      "[[ 0  1  2]\n",
      " [ 3  4  5]\n",
      " [ 6  7  8]\n",
      " [ 9 10 11]\n",
      " [12 13 14]]\n"
     ]
    }
   ],
   "source": [
    "print(m3.reshape(5,-5)) # -5 will be replaced by 3 "
   ]
  },
  {
   "cell_type": "markdown",
   "id": "2cb6943e",
   "metadata": {},
   "source": [
    "# Initial Placeholders"
   ]
  },
  {
   "cell_type": "code",
   "execution_count": 85,
   "id": "a9a1b878",
   "metadata": {},
   "outputs": [
    {
     "name": "stdout",
     "output_type": "stream",
     "text": [
      "[0. 0. 0. 0. 0.]\n"
     ]
    }
   ],
   "source": [
    "print(np.zeros(5))"
   ]
  },
  {
   "cell_type": "code",
   "execution_count": 86,
   "id": "6ddb4e65",
   "metadata": {},
   "outputs": [
    {
     "name": "stdout",
     "output_type": "stream",
     "text": [
      "[[0. 0. 0.]\n",
      " [0. 0. 0.]\n",
      " [0. 0. 0.]\n",
      " [0. 0. 0.]]\n"
     ]
    }
   ],
   "source": [
    "print(np.zeros([4,3])) #2d array"
   ]
  },
  {
   "cell_type": "code",
   "execution_count": 87,
   "id": "da33d3e9",
   "metadata": {},
   "outputs": [
    {
     "name": "stdout",
     "output_type": "stream",
     "text": [
      "[1. 1. 1. 1. 1.]\n"
     ]
    }
   ],
   "source": [
    "print(np.ones(5))"
   ]
  },
  {
   "cell_type": "code",
   "execution_count": 88,
   "id": "77acd9e1",
   "metadata": {},
   "outputs": [
    {
     "name": "stdout",
     "output_type": "stream",
     "text": [
      "[[1. 1. 1.]\n",
      " [1. 1. 1.]\n",
      " [1. 1. 1.]\n",
      " [1. 1. 1.]\n",
      " [1. 1. 1.]\n",
      " [1. 1. 1.]]\n"
     ]
    }
   ],
   "source": [
    "print(np.ones([6,3]))"
   ]
  },
  {
   "cell_type": "code",
   "execution_count": 89,
   "id": "d60608f5",
   "metadata": {},
   "outputs": [
    {
     "name": "stdout",
     "output_type": "stream",
     "text": [
      "[[1. 0. 0. 0.]\n",
      " [0. 1. 0. 0.]\n",
      " [0. 0. 1. 0.]\n",
      " [0. 0. 0. 1.]]\n"
     ]
    }
   ],
   "source": [
    "print(np.eye(4))"
   ]
  },
  {
   "cell_type": "code",
   "execution_count": 90,
   "id": "efd84ae7",
   "metadata": {},
   "outputs": [
    {
     "name": "stdout",
     "output_type": "stream",
     "text": [
      "[[5 0 0]\n",
      " [0 6 0]\n",
      " [0 0 7]]\n"
     ]
    }
   ],
   "source": [
    "print(np.diag([5,6,7]))"
   ]
  },
  {
   "cell_type": "code",
   "execution_count": 91,
   "id": "6adb6f68",
   "metadata": {},
   "outputs": [
    {
     "name": "stdout",
     "output_type": "stream",
     "text": [
      "[[1. 0. 0. 0. 0.]\n",
      " [0. 1. 0. 0. 0.]\n",
      " [0. 0. 1. 0. 0.]\n",
      " [0. 0. 0. 1. 0.]\n",
      " [0. 0. 0. 0. 1.]]\n"
     ]
    }
   ],
   "source": [
    "print(np.identity(5))"
   ]
  },
  {
   "cell_type": "markdown",
   "id": "57063344",
   "metadata": {},
   "source": [
    "# Indexing and slicing "
   ]
  },
  {
   "cell_type": "code",
   "execution_count": 114,
   "id": "e812a07f",
   "metadata": {},
   "outputs": [
    {
     "name": "stdout",
     "output_type": "stream",
     "text": [
      "[ 0  1  2  3  4  5  6  7  8  9 10 11 12 13 14]\n"
     ]
    }
   ],
   "source": [
    "m5 = np.arange(15)\n",
    "print(m5)"
   ]
  },
  {
   "cell_type": "code",
   "execution_count": 115,
   "id": "37e0d3ef",
   "metadata": {},
   "outputs": [
    {
     "name": "stdout",
     "output_type": "stream",
     "text": [
      "2\n"
     ]
    }
   ],
   "source": [
    "print(m5[2])"
   ]
  },
  {
   "cell_type": "code",
   "execution_count": 116,
   "id": "041a7aca",
   "metadata": {},
   "outputs": [
    {
     "name": "stdout",
     "output_type": "stream",
     "text": [
      "11\n"
     ]
    }
   ],
   "source": [
    "print(m5[11])"
   ]
  },
  {
   "cell_type": "code",
   "execution_count": 117,
   "id": "1697dd16",
   "metadata": {},
   "outputs": [
    {
     "name": "stdout",
     "output_type": "stream",
     "text": [
      "[0 2 4]\n"
     ]
    }
   ],
   "source": [
    "print(m5[[0,2,4]])"
   ]
  },
  {
   "cell_type": "code",
   "execution_count": 118,
   "id": "f3afbc32",
   "metadata": {},
   "outputs": [
    {
     "name": "stdout",
     "output_type": "stream",
     "text": [
      "[[ 0  1  2]\n",
      " [ 3  4  5]\n",
      " [ 6  7  8]\n",
      " [ 9 10 11]\n",
      " [12 13 14]]\n"
     ]
    }
   ],
   "source": [
    "m5 = np.arange(15).reshape([5,3])\n",
    "print(m5)"
   ]
  },
  {
   "cell_type": "code",
   "execution_count": 100,
   "id": "93e823d5",
   "metadata": {},
   "outputs": [
    {
     "name": "stdout",
     "output_type": "stream",
     "text": [
      "1\n"
     ]
    }
   ],
   "source": [
    "print(m5[0][1])"
   ]
  },
  {
   "cell_type": "code",
   "execution_count": 101,
   "id": "e3a1faad",
   "metadata": {},
   "outputs": [
    {
     "name": "stdout",
     "output_type": "stream",
     "text": [
      "8\n"
     ]
    }
   ],
   "source": [
    "print(m5[2][2]) "
   ]
  },
  {
   "cell_type": "code",
   "execution_count": 103,
   "id": "0207ed3c",
   "metadata": {},
   "outputs": [
    {
     "name": "stdout",
     "output_type": "stream",
     "text": [
      "8\n"
     ]
    }
   ],
   "source": [
    "print(m5[2,2]) # easier notation to access the element  "
   ]
  },
  {
   "cell_type": "code",
   "execution_count": 124,
   "id": "5772bb0c",
   "metadata": {},
   "outputs": [
    {
     "name": "stdout",
     "output_type": "stream",
     "text": [
      "[7 8 2]\n"
     ]
    }
   ],
   "source": [
    "print(m5[[2,2,0],[1,2,2]]) # accessing multiple iteams in a 2D aray"
   ]
  },
  {
   "cell_type": "markdown",
   "id": "c1964ee2",
   "metadata": {},
   "source": [
    "# Slicing"
   ]
  },
  {
   "cell_type": "code",
   "execution_count": 126,
   "id": "af546378",
   "metadata": {},
   "outputs": [],
   "source": [
    "arr1 = np.arange(12).reshape(3,4)"
   ]
  },
  {
   "cell_type": "code",
   "execution_count": 127,
   "id": "ede8d638",
   "metadata": {},
   "outputs": [
    {
     "name": "stdout",
     "output_type": "stream",
     "text": [
      "[[ 0  1  2  3]\n",
      " [ 4  5  6  7]\n",
      " [ 8  9 10 11]]\n"
     ]
    }
   ],
   "source": [
    "print(arr1)"
   ]
  },
  {
   "cell_type": "code",
   "execution_count": 128,
   "id": "86bf1540",
   "metadata": {},
   "outputs": [
    {
     "name": "stdout",
     "output_type": "stream",
     "text": [
      "0\n"
     ]
    }
   ],
   "source": [
    "print(arr1[0 ,0])"
   ]
  },
  {
   "cell_type": "code",
   "execution_count": 129,
   "id": "91589a9f",
   "metadata": {},
   "outputs": [
    {
     "name": "stdout",
     "output_type": "stream",
     "text": [
      "[0 1]\n"
     ]
    }
   ],
   "source": [
    "print(arr1[0 ,0:2])"
   ]
  },
  {
   "cell_type": "code",
   "execution_count": 130,
   "id": "7ddfc9ff",
   "metadata": {},
   "outputs": [
    {
     "name": "stdout",
     "output_type": "stream",
     "text": [
      "[ 8  9 10 11]\n"
     ]
    }
   ],
   "source": [
    "print(arr1[2 ,0:])"
   ]
  },
  {
   "cell_type": "code",
   "execution_count": 137,
   "id": "c9ace153",
   "metadata": {},
   "outputs": [
    {
     "name": "stdout",
     "output_type": "stream",
     "text": [
      "[[ 2  3]\n",
      " [ 6  7]\n",
      " [10 11]]\n"
     ]
    }
   ],
   "source": [
    "print(arr1[: ,2:])"
   ]
  },
  {
   "cell_type": "code",
   "execution_count": 138,
   "id": "d769aaed",
   "metadata": {},
   "outputs": [],
   "source": [
    "# reversing array"
   ]
  },
  {
   "cell_type": "code",
   "execution_count": 144,
   "id": "a141377a",
   "metadata": {},
   "outputs": [
    {
     "name": "stdout",
     "output_type": "stream",
     "text": [
      "[1 1 1 1 4 3 2]\n"
     ]
    }
   ],
   "source": [
    "x = np.array([1,1,1,1,1,1,1])\n",
    "y = np.array([2,3,4])\n",
    "x[4:] = y[::-1]\n",
    "print(x)"
   ]
  },
  {
   "cell_type": "markdown",
   "id": "ce538767",
   "metadata": {},
   "source": [
    "# Indexing with Boolean Arrays"
   ]
  },
  {
   "cell_type": "code",
   "execution_count": 145,
   "id": "683f3e8e",
   "metadata": {},
   "outputs": [],
   "source": [
    "# Masking\n",
    "# fancy indexing\n"
   ]
  },
  {
   "cell_type": "code",
   "execution_count": 146,
   "id": "7cb2949c",
   "metadata": {},
   "outputs": [
    {
     "name": "stdout",
     "output_type": "stream",
     "text": [
      "[[ 0  1  2  3]\n",
      " [ 4  5  6  7]\n",
      " [ 8  9 10 11]]\n"
     ]
    }
   ],
   "source": [
    "arr1 = np.arange(12).reshape(3,4)\n",
    "print(arr1)"
   ]
  },
  {
   "cell_type": "code",
   "execution_count": 147,
   "id": "42924fe8",
   "metadata": {},
   "outputs": [
    {
     "name": "stdout",
     "output_type": "stream",
     "text": [
      "[[False False False False]\n",
      " [False False  True  True]\n",
      " [ True  True  True  True]]\n"
     ]
    }
   ],
   "source": [
    "print(arr1 > 5)"
   ]
  },
  {
   "cell_type": "code",
   "execution_count": 148,
   "id": "8c79cbda",
   "metadata": {},
   "outputs": [
    {
     "name": "stdout",
     "output_type": "stream",
     "text": [
      "[ 6  7  8  9 10 11]\n"
     ]
    }
   ],
   "source": [
    "print(arr1[arr1 > 5]) #filtering the values using masks"
   ]
  },
  {
   "cell_type": "code",
   "execution_count": 149,
   "id": "9f12e980",
   "metadata": {},
   "outputs": [
    {
     "name": "stdout",
     "output_type": "stream",
     "text": [
      "[ 0  2  4  6  8 10]\n"
     ]
    }
   ],
   "source": [
    "print(arr1[arr1 % 2== 0]) "
   ]
  },
  {
   "cell_type": "code",
   "execution_count": 150,
   "id": "d9640023",
   "metadata": {},
   "outputs": [
    {
     "name": "stdout",
     "output_type": "stream",
     "text": [
      "[0 3 6 9]\n"
     ]
    }
   ],
   "source": [
    "print(arr1[arr1 % 3== 0])"
   ]
  },
  {
   "cell_type": "code",
   "execution_count": 155,
   "id": "1f8dc8da",
   "metadata": {},
   "outputs": [
    {
     "name": "stdout",
     "output_type": "stream",
     "text": [
      "[ 0  2  3  4  6  8  9 10]\n"
     ]
    }
   ],
   "source": [
    "print(arr1[(arr1 % 2== 0) | (arr1 % 3== 0)]) #multiple conditions"
   ]
  },
  {
   "cell_type": "code",
   "execution_count": 156,
   "id": "3842aaa6",
   "metadata": {},
   "outputs": [
    {
     "name": "stdout",
     "output_type": "stream",
     "text": [
      "[[ 0  1  2  3]\n",
      " [ 4  5  6  7]\n",
      " [ 8  9 10 11]]\n"
     ]
    }
   ],
   "source": [
    "arr1 = np.arange(12).reshape(3,4)\n",
    "print(arr1)"
   ]
  },
  {
   "cell_type": "code",
   "execution_count": 157,
   "id": "813f76c1",
   "metadata": {},
   "outputs": [],
   "source": [
    "ans  = (arr1 % 2 == 0)"
   ]
  },
  {
   "cell_type": "code",
   "execution_count": 158,
   "id": "0f948214",
   "metadata": {},
   "outputs": [
    {
     "name": "stdout",
     "output_type": "stream",
     "text": [
      "[[100   1 100   3]\n",
      " [100   5 100   7]\n",
      " [100   9 100  11]]\n"
     ]
    }
   ],
   "source": [
    "arr1[ans] = 100\n",
    "print(arr1)"
   ]
  },
  {
   "cell_type": "markdown",
   "id": "db850324",
   "metadata": {},
   "source": [
    "# >>>>>>>>>>>>>>>>>>>>>DAY 02"
   ]
  },
  {
   "cell_type": "markdown",
   "id": "8405e854",
   "metadata": {},
   "source": [
    "# Universal Functions"
   ]
  },
  {
   "cell_type": "code",
   "execution_count": 168,
   "id": "8927bb1b",
   "metadata": {},
   "outputs": [],
   "source": [
    " a = np.array([11,22,33,44,55])\n",
    " b = np.array([1,2,3,4,5])    "
   ]
  },
  {
   "cell_type": "code",
   "execution_count": 169,
   "id": "d71ca585",
   "metadata": {},
   "outputs": [
    {
     "name": "stdout",
     "output_type": "stream",
     "text": [
      "[12 24 36 48 60]\n"
     ]
    }
   ],
   "source": [
    "print(a+b) #np.add(a,b)"
   ]
  },
  {
   "cell_type": "code",
   "execution_count": 163,
   "id": "880a4ef9",
   "metadata": {},
   "outputs": [
    {
     "name": "stdout",
     "output_type": "stream",
     "text": [
      "[10 20 30 40 50]\n"
     ]
    }
   ],
   "source": [
    "print(a-b)"
   ]
  },
  {
   "cell_type": "code",
   "execution_count": 164,
   "id": "039bad65",
   "metadata": {},
   "outputs": [
    {
     "name": "stdout",
     "output_type": "stream",
     "text": [
      "[ 11  44  99 176 275]\n"
     ]
    }
   ],
   "source": [
    "print(a*b)"
   ]
  },
  {
   "cell_type": "code",
   "execution_count": 165,
   "id": "f73edcb6",
   "metadata": {},
   "outputs": [
    {
     "name": "stdout",
     "output_type": "stream",
     "text": [
      "[11. 11. 11. 11. 11.]\n"
     ]
    }
   ],
   "source": [
    "print(a/b)"
   ]
  },
  {
   "cell_type": "markdown",
   "id": "03aa1b82",
   "metadata": {},
   "source": [
    "# Aggreagte Function"
   ]
  },
  {
   "cell_type": "code",
   "execution_count": 170,
   "id": "8a5f8f66",
   "metadata": {},
   "outputs": [
    {
     "name": "stdout",
     "output_type": "stream",
     "text": [
      "165\n"
     ]
    }
   ],
   "source": [
    "print(np.sum(a))"
   ]
  },
  {
   "cell_type": "code",
   "execution_count": 171,
   "id": "f6b7b30c",
   "metadata": {},
   "outputs": [
    {
     "name": "stdout",
     "output_type": "stream",
     "text": [
      "15\n"
     ]
    }
   ],
   "source": [
    "print(np.sum(b))"
   ]
  },
  {
   "cell_type": "code",
   "execution_count": 175,
   "id": "57ae314f",
   "metadata": {},
   "outputs": [],
   "source": [
    "arr5 = np.arange(10,60,2).reshape(5,5)"
   ]
  },
  {
   "cell_type": "code",
   "execution_count": 177,
   "id": "8de5d408",
   "metadata": {},
   "outputs": [
    {
     "name": "stdout",
     "output_type": "stream",
     "text": [
      "[[10 12 14 16 18]\n",
      " [20 22 24 26 28]\n",
      " [30 32 34 36 38]\n",
      " [40 42 44 46 48]\n",
      " [50 52 54 56 58]]\n"
     ]
    }
   ],
   "source": [
    "print(arr5)"
   ]
  },
  {
   "cell_type": "code",
   "execution_count": 178,
   "id": "01ef1d68",
   "metadata": {},
   "outputs": [
    {
     "name": "stdout",
     "output_type": "stream",
     "text": [
      "[150 160 170 180 190]\n"
     ]
    }
   ],
   "source": [
    "print(np.sum(arr5 , axis=0))"
   ]
  },
  {
   "cell_type": "code",
   "execution_count": 179,
   "id": "5034d1ad",
   "metadata": {},
   "outputs": [
    {
     "name": "stdout",
     "output_type": "stream",
     "text": [
      "[ 70 120 170 220 270]\n"
     ]
    }
   ],
   "source": [
    "print(np.sum(arr5 , axis=1))"
   ]
  },
  {
   "cell_type": "code",
   "execution_count": 181,
   "id": "4a97a41d",
   "metadata": {},
   "outputs": [
    {
     "name": "stdout",
     "output_type": "stream",
     "text": [
      "34.0\n"
     ]
    }
   ],
   "source": [
    "print(np.mean(arr5))"
   ]
  },
  {
   "cell_type": "code",
   "execution_count": 183,
   "id": "117e558b",
   "metadata": {},
   "outputs": [
    {
     "name": "stdout",
     "output_type": "stream",
     "text": [
      "[30. 32. 34. 36. 38.]\n"
     ]
    }
   ],
   "source": [
    "print(np.mean(arr5 , axis=0))"
   ]
  },
  {
   "cell_type": "code",
   "execution_count": 184,
   "id": "e6a6effa",
   "metadata": {},
   "outputs": [
    {
     "name": "stdout",
     "output_type": "stream",
     "text": [
      "[14. 24. 34. 44. 54.]\n"
     ]
    }
   ],
   "source": [
    "print(np.mean(arr5 , axis=1))"
   ]
  },
  {
   "cell_type": "code",
   "execution_count": 186,
   "id": "7fc6b940",
   "metadata": {},
   "outputs": [
    {
     "name": "stdout",
     "output_type": "stream",
     "text": [
      "10\n"
     ]
    }
   ],
   "source": [
    "print(np.min(arr5)) "
   ]
  },
  {
   "cell_type": "code",
   "execution_count": 187,
   "id": "996354ed",
   "metadata": {},
   "outputs": [
    {
     "name": "stdout",
     "output_type": "stream",
     "text": [
      "[10 12 14 16 18]\n"
     ]
    }
   ],
   "source": [
    "print(np.min(arr5,axis=0)) "
   ]
  },
  {
   "cell_type": "code",
   "execution_count": 188,
   "id": "e2456558",
   "metadata": {},
   "outputs": [
    {
     "name": "stdout",
     "output_type": "stream",
     "text": [
      "[10 20 30 40 50]\n"
     ]
    }
   ],
   "source": [
    "print(np.min(arr5,axis=1))"
   ]
  },
  {
   "cell_type": "markdown",
   "id": "6c944ae8",
   "metadata": {},
   "source": [
    "# Logical Fun"
   ]
  },
  {
   "cell_type": "code",
   "execution_count": 192,
   "id": "0b43d74f",
   "metadata": {},
   "outputs": [
    {
     "data": {
      "text/plain": [
       "True"
      ]
     },
     "execution_count": 192,
     "metadata": {},
     "output_type": "execute_result"
    }
   ],
   "source": [
    "# any = all elements have to be ZERO\n",
    "a = np.array([11,22,33,44,55])\n",
    "np.any(a)"
   ]
  },
  {
   "cell_type": "code",
   "execution_count": 190,
   "id": "c0e2d9b5",
   "metadata": {},
   "outputs": [
    {
     "data": {
      "text/plain": [
       "True"
      ]
     },
     "execution_count": 190,
     "metadata": {},
     "output_type": "execute_result"
    }
   ],
   "source": [
    "a = np.array([11,22,33,44,55,0])\n",
    "np.any(a)"
   ]
  },
  {
   "cell_type": "code",
   "execution_count": 191,
   "id": "46eda713",
   "metadata": {},
   "outputs": [
    {
     "data": {
      "text/plain": [
       "False"
      ]
     },
     "execution_count": 191,
     "metadata": {},
     "output_type": "execute_result"
    }
   ],
   "source": [
    "a = np.array([0,0,0,0,0])\n",
    "np.any(a)"
   ]
  },
  {
   "cell_type": "code",
   "execution_count": 193,
   "id": "79e832ad",
   "metadata": {},
   "outputs": [],
   "source": [
    "a1 = np.array([77,8,88,99,6,5])\n",
    "a2 = np.array([66,8,88,99,6,5])"
   ]
  },
  {
   "cell_type": "code",
   "execution_count": 194,
   "id": "4ad880cd",
   "metadata": {},
   "outputs": [
    {
     "name": "stdout",
     "output_type": "stream",
     "text": [
      "[ True False False False False False]\n"
     ]
    }
   ],
   "source": [
    "print(a1>a2)"
   ]
  },
  {
   "cell_type": "code",
   "execution_count": 195,
   "id": "d41e6977",
   "metadata": {},
   "outputs": [
    {
     "name": "stdout",
     "output_type": "stream",
     "text": [
      "True\n"
     ]
    }
   ],
   "source": [
    "print(np.any(a1>a2))"
   ]
  },
  {
   "cell_type": "code",
   "execution_count": 196,
   "id": "3515a94d",
   "metadata": {},
   "outputs": [
    {
     "name": "stdout",
     "output_type": "stream",
     "text": [
      "False\n"
     ]
    }
   ],
   "source": [
    "print(np.all(a1>a2))"
   ]
  },
  {
   "cell_type": "code",
   "execution_count": 197,
   "id": "b3e97e8a",
   "metadata": {},
   "outputs": [
    {
     "name": "stdout",
     "output_type": "stream",
     "text": [
      "False\n"
     ]
    }
   ],
   "source": [
    "print(np.all(a1<a2))"
   ]
  },
  {
   "cell_type": "code",
   "execution_count": 198,
   "id": "79381638",
   "metadata": {},
   "outputs": [
    {
     "data": {
      "text/plain": [
       "array([ 0, 11, 22, 33, 44, 55])"
      ]
     },
     "execution_count": 198,
     "metadata": {},
     "output_type": "execute_result"
    }
   ],
   "source": [
    "a = np.array([11,22,33,44,55,0])\n",
    "np.sort(a)"
   ]
  },
  {
   "cell_type": "code",
   "execution_count": 199,
   "id": "48d3c928",
   "metadata": {},
   "outputs": [
    {
     "data": {
      "text/plain": [
       "array([5, 0, 1, 2, 3, 4], dtype=int64)"
      ]
     },
     "execution_count": 199,
     "metadata": {},
     "output_type": "execute_result"
    }
   ],
   "source": [
    "np.argsort(a) #index of sorted array"
   ]
  },
  {
   "cell_type": "code",
   "execution_count": 200,
   "id": "0f82b863",
   "metadata": {},
   "outputs": [],
   "source": [
    "# sorting in a 2d Array\n"
   ]
  },
  {
   "cell_type": "code",
   "execution_count": 207,
   "id": "544cbde3",
   "metadata": {},
   "outputs": [],
   "source": [
    "a = np.array([[12,33,33,44,87,14],[12,44,55,77,44,11],[1,2,3,4,5,6]])"
   ]
  },
  {
   "cell_type": "code",
   "execution_count": 208,
   "id": "3b9c5f32",
   "metadata": {},
   "outputs": [
    {
     "name": "stdout",
     "output_type": "stream",
     "text": [
      "[[12 33 33 44 87 14]\n",
      " [12 44 55 77 44 11]\n",
      " [ 1  2  3  4  5  6]]\n"
     ]
    }
   ],
   "source": [
    "print(a)"
   ]
  },
  {
   "cell_type": "code",
   "execution_count": 210,
   "id": "5ef74859",
   "metadata": {},
   "outputs": [
    {
     "name": "stdout",
     "output_type": "stream",
     "text": [
      "[[12 14 33 33 44 87]\n",
      " [11 12 44 44 55 77]\n",
      " [ 1  2  3  4  5  6]]\n"
     ]
    }
   ],
   "source": [
    "print(np.sort(a)) #default sort is last axis , here is axis = 1"
   ]
  },
  {
   "cell_type": "markdown",
   "id": "b6ec5068",
   "metadata": {},
   "source": [
    "# Broadcasting"
   ]
  },
  {
   "cell_type": "code",
   "execution_count": 211,
   "id": "6680e894",
   "metadata": {},
   "outputs": [],
   "source": [
    "x = np.array([10,20,30])\n",
    "y = np.array([[1],[2],[3],[4]])"
   ]
  },
  {
   "cell_type": "code",
   "execution_count": 214,
   "id": "0c3b4cb4",
   "metadata": {},
   "outputs": [
    {
     "name": "stdout",
     "output_type": "stream",
     "text": [
      "[10 20 30]\n",
      "1\n",
      "(3,)\n"
     ]
    }
   ],
   "source": [
    "print(x)\n",
    "print(x.ndim)\n",
    "print(x.shape)"
   ]
  },
  {
   "cell_type": "code",
   "execution_count": 215,
   "id": "45f1f2e1",
   "metadata": {},
   "outputs": [
    {
     "name": "stdout",
     "output_type": "stream",
     "text": [
      "[[1]\n",
      " [2]\n",
      " [3]\n",
      " [4]]\n",
      "2\n",
      "(4, 1)\n"
     ]
    }
   ],
   "source": [
    "print(y)\n",
    "print(y.ndim)\n",
    "print(y.shape)"
   ]
  },
  {
   "cell_type": "code",
   "execution_count": 217,
   "id": "1c2639ca",
   "metadata": {},
   "outputs": [
    {
     "name": "stdout",
     "output_type": "stream",
     "text": [
      "[[11 21 31]\n",
      " [12 22 32]\n",
      " [13 23 33]\n",
      " [14 24 34]]\n"
     ]
    }
   ],
   "source": [
    "print(x+y)"
   ]
  },
  {
   "cell_type": "markdown",
   "id": "6c83de87",
   "metadata": {},
   "source": [
    "# Splitting"
   ]
  },
  {
   "cell_type": "code",
   "execution_count": 220,
   "id": "60a60c94",
   "metadata": {},
   "outputs": [
    {
     "name": "stdout",
     "output_type": "stream",
     "text": [
      "[0 1 2 3 4 5 6 7 8]\n"
     ]
    }
   ],
   "source": [
    "x = np.arange(9)\n",
    "print(x)"
   ]
  },
  {
   "cell_type": "code",
   "execution_count": 221,
   "id": "83e09f1a",
   "metadata": {},
   "outputs": [
    {
     "name": "stdout",
     "output_type": "stream",
     "text": [
      "[array([0, 1, 2]), array([3, 4, 5]), array([6, 7, 8])]\n"
     ]
    }
   ],
   "source": [
    "print(np.split(x,3))"
   ]
  },
  {
   "cell_type": "code",
   "execution_count": 223,
   "id": "a2570995",
   "metadata": {},
   "outputs": [],
   "source": [
    "# print(np.split(x,5)) # Error"
   ]
  },
  {
   "cell_type": "code",
   "execution_count": 224,
   "id": "305ed474",
   "metadata": {},
   "outputs": [
    {
     "name": "stdout",
     "output_type": "stream",
     "text": [
      "[[ 0  1  2  3]\n",
      " [ 4  5  6  7]\n",
      " [ 8  9 10 11]\n",
      " [12 13 14 15]]\n"
     ]
    }
   ],
   "source": [
    "x = np.arange(16).reshape(4,4)\n",
    "print(x)"
   ]
  },
  {
   "cell_type": "code",
   "execution_count": 226,
   "id": "e0663333",
   "metadata": {},
   "outputs": [
    {
     "name": "stdout",
     "output_type": "stream",
     "text": [
      "[array([[0, 1, 2, 3]]), array([[4, 5, 6, 7]]), array([[ 8,  9, 10, 11]]), array([[12, 13, 14, 15]])]\n"
     ]
    }
   ],
   "source": [
    "print(np.split(x,4)) #default axis = 0"
   ]
  },
  {
   "cell_type": "code",
   "execution_count": 230,
   "id": "ca213e6d",
   "metadata": {},
   "outputs": [
    {
     "name": "stdout",
     "output_type": "stream",
     "text": [
      "[array([[0, 1, 2, 3]]), array([[4, 5, 6, 7]]), array([[ 8,  9, 10, 11]]), array([[12, 13, 14, 15]])]\n"
     ]
    }
   ],
   "source": [
    "print(np.vsplit(x,4))"
   ]
  },
  {
   "cell_type": "code",
   "execution_count": 227,
   "id": "7f2232dc",
   "metadata": {},
   "outputs": [
    {
     "name": "stdout",
     "output_type": "stream",
     "text": [
      "[array([[ 0],\n",
      "       [ 4],\n",
      "       [ 8],\n",
      "       [12]]), array([[ 1],\n",
      "       [ 5],\n",
      "       [ 9],\n",
      "       [13]]), array([[ 2],\n",
      "       [ 6],\n",
      "       [10],\n",
      "       [14]]), array([[ 3],\n",
      "       [ 7],\n",
      "       [11],\n",
      "       [15]])]\n"
     ]
    }
   ],
   "source": [
    "print(np.split(x,4,axis=1)) "
   ]
  },
  {
   "cell_type": "code",
   "execution_count": 229,
   "id": "e9319e84",
   "metadata": {
    "scrolled": true
   },
   "outputs": [
    {
     "name": "stdout",
     "output_type": "stream",
     "text": [
      "[array([[ 0],\n",
      "       [ 4],\n",
      "       [ 8],\n",
      "       [12]]), array([[ 1],\n",
      "       [ 5],\n",
      "       [ 9],\n",
      "       [13]]), array([[ 2],\n",
      "       [ 6],\n",
      "       [10],\n",
      "       [14]]), array([[ 3],\n",
      "       [ 7],\n",
      "       [11],\n",
      "       [15]])]\n"
     ]
    }
   ],
   "source": [
    "print(np.hsplit(x ,4))"
   ]
  },
  {
   "cell_type": "code",
   "execution_count": 233,
   "id": "587ab834",
   "metadata": {},
   "outputs": [],
   "source": [
    "# Merging of arrays"
   ]
  },
  {
   "cell_type": "markdown",
   "id": "e2179c13",
   "metadata": {},
   "source": [
    "# Copies and Views"
   ]
  },
  {
   "cell_type": "code",
   "execution_count": 231,
   "id": "2349255a",
   "metadata": {},
   "outputs": [
    {
     "name": "stdout",
     "output_type": "stream",
     "text": [
      "True\n",
      "False\n",
      "True\n",
      "False\n",
      "(3, 4)\n",
      "[[   0    1    2    3]\n",
      " [1234    5    6    7]\n",
      " [   8    9   10   11]]\n",
      "False\n"
     ]
    }
   ],
   "source": [
    "\n",
    "# No Copy at All\n",
    "a = np.array([[ 0,  1,  2,  3],\n",
    "              [ 4,  5,  6,  7],\n",
    "              [ 8,  9, 10, 11]])\n",
    "b = a            # no new object is created\n",
    "print(b is a)     # a and b are two names for the same ndarray object\n",
    "# View or Shallow Copy\n",
    "c = a.view()\n",
    "print(c is a)\n",
    "print(c.base is a  )          # c is a view of the data owned by a\n",
    "print(c.flags.owndata)\n",
    "c = c.reshape((2, 6))  # a's shape doesn't change\n",
    "print(a.shape)\n",
    "c[0, 4] = 1234         # a's data changes\n",
    "print(a)\n",
    "\n",
    "# Deep Copy\n",
    "d = a.copy()  # a new array object with new data is created\n",
    "print(d is a)\n"
   ]
  },
  {
   "cell_type": "code",
   "execution_count": null,
   "id": "ae7f8069",
   "metadata": {},
   "outputs": [],
   "source": []
  }
 ],
 "metadata": {
  "kernelspec": {
   "display_name": "Python 3 (ipykernel)",
   "language": "python",
   "name": "python3"
  },
  "language_info": {
   "codemirror_mode": {
    "name": "ipython",
    "version": 3
   },
   "file_extension": ".py",
   "mimetype": "text/x-python",
   "name": "python",
   "nbconvert_exporter": "python",
   "pygments_lexer": "ipython3",
   "version": "3.10.5"
  }
 },
 "nbformat": 4,
 "nbformat_minor": 5
}
